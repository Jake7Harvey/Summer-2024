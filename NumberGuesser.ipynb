{
  "nbformat": 4,
  "nbformat_minor": 0,
  "metadata": {
    "colab": {
      "provenance": [],
      "authorship_tag": "ABX9TyPPTstj7cwT6MPiul5iRayG",
      "include_colab_link": true
    },
    "kernelspec": {
      "name": "python3",
      "display_name": "Python 3"
    },
    "language_info": {
      "name": "python"
    }
  },
  "cells": [
    {
      "cell_type": "markdown",
      "metadata": {
        "id": "view-in-github",
        "colab_type": "text"
      },
      "source": [
        "<a href=\"https://colab.research.google.com/github/Jake7Harvey/Summer-2024/blob/main/NumberGuesser.ipynb\" target=\"_parent\"><img src=\"https://colab.research.google.com/assets/colab-badge.svg\" alt=\"Open In Colab\"/></a>"
      ]
    },
    {
      "cell_type": "markdown",
      "source": [
        "6/19/2024"
      ],
      "metadata": {
        "id": "hwokAVrX9u0p"
      }
    },
    {
      "cell_type": "code",
      "source": [
        "import random\n",
        "import math\n",
        "\n",
        "lower = int(input(\"Enter the Lower Boundry: \"))\n",
        "upper = int(input(\"Enter the Upper Boundry: \"))\n",
        "\n",
        "x = random.randint(lower, upper)\n",
        "print(\"\\n\\tYou've only \", round(math.log(upper - lower + 1, 2)), \" chances to guess the integer!\\n\")\n",
        "\n",
        "count = 0\n",
        "\n",
        "while count < math.log(upper - lower + 1, 2):\n",
        "    count += 1\n",
        "\n",
        "    guess = int(input(\"Guess a Number: \"))\n",
        "\n",
        "    if x == guess:\n",
        "        print(\"Congratulations you did it in \", count, \" try\")\n",
        "        break\n",
        "    elif x > guess:\n",
        "        print(\"You guessed too small!\")\n",
        "    elif x < guess:\n",
        "        print(\"You Guessed too high!\")\n",
        "\n",
        "        if count >= math.log(upper - lower + 1, 2):\n",
        "          print(\"\\nThe number is %d\" % x)\n",
        "          print(\"\\tBetter Luck Next time!\")"
      ],
      "metadata": {
        "colab": {
          "base_uri": "https://localhost:8080/"
        },
        "id": "LSibtnkn1on6",
        "outputId": "05e42e03-25a2-4ffc-c6dd-c51df5e92a9d"
      },
      "execution_count": 2,
      "outputs": [
        {
          "output_type": "stream",
          "name": "stdout",
          "text": [
            "Enter the Lower Boundry: 1\n",
            "Enter the Upper Boundry: 3\n",
            "\n",
            "\tYou've only  2  chances to guess the integer!\n",
            "\n",
            "Guess a Number: 2\n",
            "You guessed too small!\n",
            "Guess a Number: 3\n",
            "Congratulations you did it in  2  try\n"
          ]
        }
      ]
    }
  ]
}
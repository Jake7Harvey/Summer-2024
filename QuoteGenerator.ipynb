{
  "nbformat": 4,
  "nbformat_minor": 0,
  "metadata": {
    "colab": {
      "provenance": [],
      "authorship_tag": "ABX9TyOy5mb0phbxhgnpgPJPQNV5",
      "include_colab_link": true
    },
    "kernelspec": {
      "name": "python3",
      "display_name": "Python 3"
    },
    "language_info": {
      "name": "python"
    }
  },
  "cells": [
    {
      "cell_type": "markdown",
      "metadata": {
        "id": "view-in-github",
        "colab_type": "text"
      },
      "source": [
        "<a href=\"https://colab.research.google.com/github/Jake7Harvey/Summer-2024/blob/main/QuoteGenerator.ipynb\" target=\"_parent\"><img src=\"https://colab.research.google.com/assets/colab-badge.svg\" alt=\"Open In Colab\"/></a>"
      ]
    },
    {
      "cell_type": "markdown",
      "source": [
        "6/19/2024"
      ],
      "metadata": {
        "id": "5QbJBMTfxhCM"
      }
    },
    {
      "cell_type": "code",
      "execution_count": 12,
      "metadata": {
        "colab": {
          "base_uri": "https://localhost:8080/"
        },
        "id": "LigY5J48oYQ4",
        "outputId": "50f846a3-4298-4672-8488-8410440e803c"
      },
      "outputs": [
        {
          "output_type": "stream",
          "name": "stdout",
          "text": [
            "I can live without money, but I cannot live without love. - Judy Garland\n"
          ]
        }
      ],
      "source": [
        "import requests\n",
        "\n",
        "def quote_generator():\n",
        "  response = requests.get(\"https://zenquotes.io/api/random\")\n",
        "  if response.status_code == 200:\n",
        "    data = response.json()\n",
        "    quote = data[0]['q']\n",
        "    author = data[0]['a']\n",
        "\n",
        "    return f'{quote} - {author}'\n",
        "\n",
        "  else:\n",
        "    return 'Failed to fetch a quote'\n",
        "\n",
        "print(quote_generator())\n"
      ]
    }
  ]
}